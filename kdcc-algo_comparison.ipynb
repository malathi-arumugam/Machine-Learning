{
 "cells": [
  {
   "cell_type": "code",
   "execution_count": 1,
   "metadata": {
    "collapsed": true
   },
   "outputs": [],
   "source": [
    "#NumPy creats objects for multidimensional arrays and matrices,to perform advanced mathematical\n",
    "#and statistical functions on those arrays with as little code as possible.\n",
    "#SciPy builds on NumPy by adding a collection of algorithms and high-level commands for manipulating and visualizing data.\n",
    "#Pandas adds data structures and tools that are designed for practical data analysis. \n",
    "#Pandas works well with incomplete, messy, and unlabeled data \n",
    "#sklearn(scikit-learn) builds on NumPy and SciPy by adding a set of algorithms for common machine learning and data mining tasks, \n",
    "#matplotlib is the standard Python library for creating 2D plots and graphs.\n",
    "import numpy as np\n",
    "import scipy\n",
    "import pandas\n",
    "import sklearn\n",
    "import matplotlib\n",
    "import itertools\n",
    "import pandas as pd"
   ]
  },
  {
   "cell_type": "code",
   "execution_count": 2,
   "metadata": {
    "collapsed": true
   },
   "outputs": [],
   "source": [
    "# import metrics for accuracy measures for the performance of the algorithms\n",
    "from sklearn import model_selection\n",
    "from sklearn.metrics import classification_report\n",
    "from sklearn.metrics import confusion_matrix\n",
    "from sklearn.metrics import accuracy_score\n",
    "#import machine learning algorithms\n",
    "from sklearn.tree import DecisionTreeClassifier\n",
    "from sklearn.neighbors import KNeighborsClassifier\n",
    "from sklearn.naive_bayes import GaussianNB\n",
    "from sklearn.ensemble import RandomForestClassifier\n",
    "from sklearn.svm import SVC"
   ]
  },
  {
   "cell_type": "code",
   "execution_count": 3,
   "metadata": {
    "collapsed": true
   },
   "outputs": [],
   "source": [
    "from scipy.io import arff\n",
    "import pandas as pd\n",
    "import matplotlib.pyplot as plt"
   ]
  },
  {
   "cell_type": "code",
   "execution_count": 4,
   "metadata": {
    "collapsed": false
   },
   "outputs": [
    {
     "name": "stdout",
     "output_type": "stream",
     "text": [
      "(60839, 43)\n"
     ]
    }
   ],
   "source": [
    "data, meta = arff.loadarff(\"D:/cup.arff\")\n",
    "data = pd.DataFrame(data)\n",
    "#the data set contains 60839 rows and 43 columns\n",
    "print(data.shape)"
   ]
  },
  {
   "cell_type": "code",
   "execution_count": 5,
   "metadata": {
    "collapsed": false
   },
   "outputs": [
    {
     "data": {
      "text/plain": [
       "id                             float64\n",
       "duration                       float64\n",
       "protocol_type                  float64\n",
       "service                        float64\n",
       "flag                           float64\n",
       "src_bytes                      float64\n",
       "dst_bytes                      float64\n",
       "land                           float64\n",
       "wrong_fragment                 float64\n",
       "urgent                         float64\n",
       "hot                            float64\n",
       "num_failed_logins              float64\n",
       "logged_in                      float64\n",
       "num_compromissed               float64\n",
       "root_shell                     float64\n",
       "su_attempted                   float64\n",
       "num_root                       float64\n",
       "num_file_creations             float64\n",
       "num_shells                     float64\n",
       "num_access_files               float64\n",
       "num_outbounds_cmds             float64\n",
       "is_host_login                  float64\n",
       "is_guest_login                 float64\n",
       "count                          float64\n",
       "srv_count                      float64\n",
       "serror_rate                    float64\n",
       "srv_serror_rate                float64\n",
       "rerror_rate                    float64\n",
       "srv_rerror_rate                float64\n",
       "same_srv_rate                  float64\n",
       "diff_srv_rate                  float64\n",
       "srv_diff_host_rate             float64\n",
       "dst_host_count                 float64\n",
       "dst_host_srv_count             float64\n",
       "dst_host_same_srv_rate         float64\n",
       "dst_host_diff_srv_rate         float64\n",
       "dst_host_same_src_port_rate    float64\n",
       "dst_host_srv_diff_host_rate    float64\n",
       "dst_host_serror_rate           float64\n",
       "dst_host_srv_serror_rate       float64\n",
       "dst_host_rerror_rate           float64\n",
       "dst_host_srv_rerror_rate       float64\n",
       "outlier                        float64\n",
       "dtype: object"
      ]
     },
     "execution_count": 5,
     "metadata": {},
     "output_type": "execute_result"
    }
   ],
   "source": [
    "#list the column names of the dataframe and their data types\n",
    "data.dtypes"
   ]
  },
  {
   "cell_type": "code",
   "execution_count": 6,
   "metadata": {
    "collapsed": false
   },
   "outputs": [
    {
     "data": {
      "text/plain": [
       "0.0    60593\n",
       "1.0      246\n",
       "Name: outlier, dtype: int64"
      ]
     },
     "execution_count": 6,
     "metadata": {},
     "output_type": "execute_result"
    }
   ],
   "source": [
    "#of 60839 rows , 69593 are rows which are found to be normal and 246 found to be outliers\n",
    "data['outlier'].value_counts()"
   ]
  },
  {
   "cell_type": "code",
   "execution_count": 7,
   "metadata": {
    "collapsed": false
   },
   "outputs": [
    {
     "name": "stdout",
     "output_type": "stream",
     "text": [
      "(60839, 42)\n"
     ]
    }
   ],
   "source": [
    "#  delete the 'id' column\n",
    "del data['id']\n",
    "print(data.shape)"
   ]
  },
  {
   "cell_type": "code",
   "execution_count": 9,
   "metadata": {
    "collapsed": true
   },
   "outputs": [],
   "source": [
    "#split the data as training set which is 70 % of the data and validation set which is 30%\n",
    "# 41st column is outlier\n",
    "array = data.values\n",
    "X = array[:,0:41]\n",
    "Y = array[:,41]\n",
    "validation_size = 0.30\n",
    "seed = 7\n",
    "X_train, X_validation, Y_train, Y_validation = model_selection.train_test_split(X, Y, test_size=validation_size,random_state=seed)"
   ]
  },
  {
   "cell_type": "code",
   "execution_count": 10,
   "metadata": {
    "collapsed": false
   },
   "outputs": [
    {
     "name": "stdout",
     "output_type": "stream",
     "text": [
      "(42587L, 41L)\n",
      "(42587L,)\n",
      "(18252L, 41L)\n",
      "(18252L,)\n"
     ]
    }
   ],
   "source": [
    "print(X_train.shape)\n",
    "print(Y_train.shape)\n",
    "print(X_validation.shape)\n",
    "print(Y_validation.shape)"
   ]
  },
  {
   "cell_type": "code",
   "execution_count": 11,
   "metadata": {
    "collapsed": true
   },
   "outputs": [],
   "source": [
    "#try the machine learning models one by one on the training set\n",
    "models = []\n",
    "models.append(('KNN', KNeighborsClassifier()))\n",
    "models.append(('CART', DecisionTreeClassifier()))\n",
    "models.append(('NB', GaussianNB()))\n",
    "models.append(('SVM', SVC()))\n",
    "models.append(('RandomForest',RandomForestClassifier()))"
   ]
  },
  {
   "cell_type": "code",
   "execution_count": 13,
   "metadata": {
    "collapsed": true
   },
   "outputs": [],
   "source": [
    "seed=7\n",
    "scoring = 'accuracy'"
   ]
  },
  {
   "cell_type": "code",
   "execution_count": 14,
   "metadata": {
    "collapsed": false
   },
   "outputs": [
    {
     "name": "stdout",
     "output_type": "stream",
     "text": [
      "KNN: 0.998779 (0.000534)\n",
      "CART: 0.998802 (0.000560)\n",
      "NB: 0.978468 (0.001871)\n",
      "SVM: 0.997464 (0.000718)\n",
      "RandomForest: 0.998896 (0.000482)\n"
     ]
    }
   ],
   "source": [
    "#try the machine learning models\n",
    "models = []\n",
    "models.append(('KNN', KNeighborsClassifier()))\n",
    "models.append(('CART', DecisionTreeClassifier()))\n",
    "models.append(('NB', GaussianNB()))\n",
    "models.append(('SVM', SVC()))\n",
    "models.append(('RandomForest',RandomForestClassifier()))\n",
    "#cross validation with kfolds=10\n",
    "results = []\n",
    "names = []\n",
    "for name, model in models:\n",
    "    kfold = model_selection.KFold(n_splits=10, random_state=seed)\n",
    "    cv_results = model_selection.cross_val_score(model, X_train, Y_train, cv=kfold, scoring=scoring)\n",
    "    results.append(cv_results)\n",
    "    names.append(name)\n",
    "    msg = \"%s: %f (%f)\" % (name, cv_results.mean(), cv_results.std())\n",
    "    print(msg)"
   ]
  },
  {
   "cell_type": "code",
   "execution_count": 15,
   "metadata": {
    "collapsed": false
   },
   "outputs": [
    {
     "data": {
      "image/png": "[encoded data removed]",
      "text/plain": [
       "<matplotlib.figure.Figure at 0x7e082e8>"
      ]
     },
     "metadata": {},
     "output_type": "display_data"
    }
   ],
   "source": [
    "# boxplots for comparison of different algorithms\n",
    "fig = plt.figure()\n",
    "fig.suptitle('Algorithm Comparison')\n",
    "ax = fig.add_subplot(111)\n",
    "plt.boxplot(results)\n",
    "ax.set_xticklabels(names)\n",
    "plt.show()"
   ]
  },
  {
   "cell_type": "code",
   "execution_count": 16,
   "metadata": {
    "collapsed": true
   },
   "outputs": [],
   "source": [
    "# accuracy score is the best in Random forest model.Test the model with test(validation) set.Make predictions on the test data set.\n",
    "# Make predictions on validation dataset\n",
    "RandomForest = RandomForestClassifier()\n",
    "RandomForest.fit(X_train, Y_train)\n",
    "predictions = RandomForest.predict(X_validation)"
   ]
  },
  {
   "cell_type": "code",
   "execution_count": 18,
   "metadata": {
    "collapsed": false
   },
   "outputs": [
    {
     "name": "stdout",
     "output_type": "stream",
     "text": [
      "0.998794652641\n",
      "[[18170     4]\n",
      " [   18    60]]\n",
      "             precision    recall  f1-score   support\n",
      "\n",
      "        0.0       1.00      1.00      1.00     18174\n",
      "        1.0       0.94      0.77      0.85        78\n",
      "\n",
      "avg / total       1.00      1.00      1.00     18252\n",
      "\n"
     ]
    }
   ],
   "source": [
    "print(accuracy_score(Y_validation, predictions))\n",
    "print(confusion_matrix(Y_validation, predictions))\n",
    "print(classification_report(Y_validation, predictions))"
   ]
  },
  {
   "cell_type": "code",
   "execution_count": null,
   "metadata": {
    "collapsed": true
   },
   "outputs": [],
   "source": []
  }
 ],
 "metadata": {
  "kernelspec": {
   "display_name": "Python [conda root]",
   "language": "python",
   "name": "conda-root-py"
  },
  "language_info": {
   "codemirror_mode": {
    "name": "ipython",
    "version": 2
   },
   "file_extension": ".py",
   "mimetype": "text/x-python",
   "name": "python",
   "nbconvert_exporter": "python",
   "pygments_lexer": "ipython2",
   "version": "2.7.12"
  }
 },
 "nbformat": 4,
 "nbformat_minor": 1
}
